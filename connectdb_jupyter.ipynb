{
  "cells": [
    {
      "cell_type": "markdown",
      "metadata": {
        "id": "view-in-github",
        "colab_type": "text"
      },
      "source": [
        "<a href=\"https://colab.research.google.com/github/PotlachervuSrilatha/DataScience_Learning/blob/main/connectdb_jupyter.ipynb\" target=\"_parent\"><img src=\"https://colab.research.google.com/assets/colab-badge.svg\" alt=\"Open In Colab\"/></a>"
      ]
    },
    {
      "cell_type": "markdown",
      "metadata": {
        "id": "1gyVnqKUW12_"
      },
      "source": [
        "# Connecting to MySql Database from Python"
      ]
    },
    {
      "cell_type": "code",
      "execution_count": null,
      "metadata": {
        "id": "89VGTLMVW13B"
      },
      "outputs": [],
      "source": [
        "#!pip install pymysql"
      ]
    },
    {
      "cell_type": "code",
      "execution_count": null,
      "metadata": {
        "id": "8WB5tz2kW13C"
      },
      "outputs": [],
      "source": [
        "## Import the necessary modules\n",
        "import pymysql"
      ]
    },
    {
      "cell_type": "code",
      "execution_count": null,
      "metadata": {
        "id": "RBqKxJYnW13C"
      },
      "outputs": [],
      "source": [
        "## Establish a connection to the database\n",
        "conn = pymysql.connect(\n",
        "    host = 'localhost',\n",
        "    port=3306,\n",
        "    user='root',\n",
        "    db='practicedb',\n",
        "    passwd = 'tiger123',\n",
        "    autocommit=True\n",
        "    )"
      ]
    },
    {
      "cell_type": "code",
      "execution_count": null,
      "metadata": {
        "id": "cOxtm2isW13C"
      },
      "outputs": [],
      "source": [
        "## Get a cursor object using the cursor() method of the connection object\n",
        "cursor = conn.cursor()"
      ]
    },
    {
      "cell_type": "code",
      "execution_count": null,
      "metadata": {
        "id": "ErGULuneW13C",
        "outputId": "558dbfbc-0f4c-4e3a-f405-5fda58409f7f"
      },
      "outputs": [
        {
          "data": {
            "text/plain": [
              "0"
            ]
          },
          "execution_count": 4,
          "metadata": {},
          "output_type": "execute_result"
        }
      ],
      "source": [
        "cursor.execute('DROP TABLE IF EXISTS accounts')"
      ]
    },
    {
      "cell_type": "code",
      "execution_count": null,
      "metadata": {
        "id": "6KYKM1QqW13D",
        "outputId": "be1ab68a-ef7f-45fb-c2c4-558e7b720409"
      },
      "outputs": [
        {
          "data": {
            "text/plain": [
              "0"
            ]
          },
          "execution_count": 5,
          "metadata": {},
          "output_type": "execute_result"
        }
      ],
      "source": [
        "sql_create = ''' CREATE TABLE accounts (accno char(6) PRIMARY KEY,\n",
        "first_name varchar(255),\n",
        "last_name varchar(255),\n",
        "balance decimal(10,2)) '''\n",
        "\n",
        "cursor.execute(sql_create)\n",
        "#print(sql_create)"
      ]
    },
    {
      "cell_type": "code",
      "execution_count": null,
      "metadata": {
        "id": "-boB6uIUW13D",
        "outputId": "6b728d99-ccbb-47fe-f5df-700ad712cba1"
      },
      "outputs": [
        {
          "data": {
            "text/plain": [
              "2"
            ]
          },
          "execution_count": 6,
          "metadata": {},
          "output_type": "execute_result"
        }
      ],
      "source": [
        "sql_insert = \"\"\" INSERT INTO accounts values\n",
        "('ACC001', 'Jon','Hamm', 150000.00),\n",
        "('ACC002', 'Jon', 'Snow', 2000.00) \"\"\"\n",
        "cursor.execute(sql_insert)"
      ]
    },
    {
      "cell_type": "code",
      "execution_count": null,
      "metadata": {
        "id": "PAJ0GxlAW13D",
        "outputId": "f31d1d32-984c-456f-91cf-7e72713f5ef1"
      },
      "outputs": [
        {
          "data": {
            "text/plain": [
              "0"
            ]
          },
          "execution_count": 7,
          "metadata": {},
          "output_type": "execute_result"
        }
      ],
      "source": [
        "cursor.execute('DROP TABLE IF EXISTS transactions')"
      ]
    },
    {
      "cell_type": "code",
      "execution_count": null,
      "metadata": {
        "id": "a6rWb_heW13E",
        "outputId": "a999c483-1889-422d-f09d-126dc071d77f"
      },
      "outputs": [
        {
          "data": {
            "text/plain": [
              "0"
            ]
          },
          "execution_count": 8,
          "metadata": {},
          "output_type": "execute_result"
        }
      ],
      "source": [
        "sql_trs = \"\"\" CREATE TABLE transactions\n",
        "(id integer PRIMARY KEY AUTO_INCREMENT,\n",
        "account_no char(6),\n",
        "trs_type char(2),\n",
        "amount decimal(10,2),\n",
        "tot datetime) \"\"\"\n",
        "\n",
        "cursor.execute(sql_trs)"
      ]
    },
    {
      "cell_type": "code",
      "execution_count": null,
      "metadata": {
        "id": "Fy0qo5I2W13E"
      },
      "outputs": [],
      "source": [
        "debit_trs = \"\"\" UPDATE accounts\n",
        "SET balance  = balance - 5000\n",
        "WHERE accno = 'ACC001' \"\"\"\n",
        "\n",
        "credit_trs = \"\"\" UPDATE accounts\n",
        "SET balance  = balance + 5000\n",
        "WHERE accno = 'ACC002' \"\"\"\n",
        "\n",
        "log_debit = \"\"\" INSERT INTO transactions (account_no, trs_type, amount, tot)\n",
        "values ('ACC001', 'DR',5000, now()) \"\"\"\n",
        "\n",
        "log_credit = \"\"\" INSERT INTO transactions (account_no, trs_type, amount, tot)\n",
        "values ('ACC002', 'CR',5000, now()) \"\"\""
      ]
    },
    {
      "cell_type": "code",
      "execution_count": null,
      "metadata": {
        "id": "mlKz2_xMW13E"
      },
      "outputs": [],
      "source": [
        "credit_error = \"\"\" UPDATE accountss\n",
        "SET balance  = balance + 5000\n",
        "WHERE accno = 'ACC002' \"\"\"\n"
      ]
    },
    {
      "cell_type": "markdown",
      "metadata": {
        "id": "siJofnbVW13E"
      },
      "source": [
        "## Without Transaction"
      ]
    },
    {
      "cell_type": "code",
      "execution_count": null,
      "metadata": {
        "id": "upU5xg8-W13E"
      },
      "outputs": [],
      "source": [
        "cursor.execute(debit_trs)\n",
        "#cursor.execute(credit_trs)\n",
        "cursor.execute(credit_error)"
      ]
    },
    {
      "cell_type": "code",
      "execution_count": null,
      "metadata": {
        "id": "Aqqy8BrZW13F"
      },
      "outputs": [],
      "source": [
        "## Log the transactions\n",
        "cursor.execute(log_debit)\n",
        "cursor.execute(log_credit)"
      ]
    },
    {
      "cell_type": "markdown",
      "metadata": {
        "id": "IdZvrSD8W13F"
      },
      "source": [
        "### Add transaction control"
      ]
    },
    {
      "cell_type": "code",
      "execution_count": null,
      "metadata": {
        "id": "OU6-KQB7W13F",
        "outputId": "8161ae61-187e-4f5f-e62c-d97ceb9a640c"
      },
      "outputs": [
        {
          "name": "stdout",
          "output_type": "stream",
          "text": [
            "Transaction Completed\n"
          ]
        }
      ],
      "source": [
        "try:\n",
        "    ## Begin transaction\n",
        "    conn.begin()\n",
        "\n",
        "    cursor.execute(debit_trs)\n",
        "    cursor.execute(credit_trs)\n",
        "    cursor.execute(log_debit)\n",
        "    cursor.execute(log_credit)\n",
        "\n",
        "    # Commit the transaction\n",
        "    conn.commit()\n",
        "except:\n",
        "    # Rollback transaction in case of errors\n",
        "    print(\"Error ... Rolling Back!\")\n",
        "    conn.rollback()\n",
        "\n",
        "print(\"Transaction Completed\")"
      ]
    },
    {
      "cell_type": "markdown",
      "metadata": {
        "id": "N_SiMOk5W13F"
      },
      "source": [
        "# Using SELECT"
      ]
    },
    {
      "cell_type": "code",
      "execution_count": null,
      "metadata": {
        "id": "vQY4ww0PW13F",
        "outputId": "ede3752d-21e6-4d7f-a6a7-1d08f06e1e55"
      },
      "outputs": [
        {
          "data": {
            "text/plain": [
              "3"
            ]
          },
          "execution_count": 15,
          "metadata": {},
          "output_type": "execute_result"
        }
      ],
      "source": [
        "sql = \"\"\"SELECT * FROM books\n",
        "      WHERE authorid = 5 \"\"\"\n",
        "# Execute the command\n",
        "cursor.execute(sql)"
      ]
    },
    {
      "cell_type": "code",
      "execution_count": null,
      "metadata": {
        "id": "xBGGgsBLW13G",
        "outputId": "f2244926-5486-4547-d84c-78a239a33fcc"
      },
      "outputs": [
        {
          "data": {
            "text/plain": [
              "((5, 'Night Without End', 5, 0),\n",
              " (6, 'Fear is the Key', 5, 4),\n",
              " (7, 'Where Eagles Dare', 5, 0))"
            ]
          },
          "execution_count": 16,
          "metadata": {},
          "output_type": "execute_result"
        }
      ],
      "source": [
        "# Fetch all the rows in a list of lists.\n",
        "results = cursor.fetchall()\n",
        "results"
      ]
    },
    {
      "cell_type": "code",
      "execution_count": null,
      "metadata": {
        "id": "yezTvWbVW13G",
        "outputId": "edcda6e9-19a2-4cbd-a98d-fb3b6835aba1"
      },
      "outputs": [
        {
          "name": "stdout",
          "output_type": "stream",
          "text": [
            "bookid = 5, title = Night Without End, author is = 5\n",
            "bookid = 6, title = Fear is the Key, author is = 5\n",
            "bookid = 7, title = Where Eagles Dare, author is = 5\n"
          ]
        }
      ],
      "source": [
        "## Loop through all the records in the cursor\n",
        "for x in results:\n",
        "    bookid = x[0]\n",
        "    title = x[1]\n",
        "    authorid = x[2]\n",
        "\n",
        "    # Now print fetched result\n",
        "    print (\"bookid = %d, title = %s, author is = %d\" % \\\n",
        "     (bookid, title , authorid ))"
      ]
    },
    {
      "cell_type": "markdown",
      "metadata": {
        "id": "T23QKGEVW13G"
      },
      "source": [
        "## Calling a procedure"
      ]
    },
    {
      "cell_type": "code",
      "execution_count": null,
      "metadata": {
        "id": "UkQ3RWHnW13G",
        "outputId": "e8357cd1-14b1-4c7a-d260-033ea241d3cf"
      },
      "outputs": [
        {
          "name": "stdout",
          "output_type": "stream",
          "text": [
            "(100, 'Harry', datetime.date(1997, 7, 17), datetime.datetime(2022, 1, 27, 8, 30))\n",
            "(200, 'Potter', datetime.date(2000, 8, 12), datetime.datetime(2022, 1, 27, 20, 30))\n",
            "(300, 'Larry', datetime.date(1990, 9, 9), datetime.datetime(2022, 1, 28, 18, 22, 56))\n"
          ]
        }
      ],
      "source": [
        "cursor.callproc('pyproc')\n",
        "\n",
        "# print out the result\n",
        "results = cursor.fetchall()\n",
        "for result in results:\n",
        "    print(result)"
      ]
    },
    {
      "cell_type": "markdown",
      "metadata": {
        "id": "GIuaL4JdW13G"
      },
      "source": [
        "## Calling a Function"
      ]
    },
    {
      "cell_type": "code",
      "execution_count": null,
      "metadata": {
        "id": "DkENYCgLW13G",
        "outputId": "15749b57-44d6-463b-ac87-ff8491b29d35"
      },
      "outputs": [
        {
          "data": {
            "text/plain": [
              "5"
            ]
          },
          "execution_count": 19,
          "metadata": {},
          "output_type": "execute_result"
        }
      ],
      "source": [
        "sql_query = \"\"\" SELECT first_name, last_name, experience(emp_id) as experience\n",
        "FROM myemp\n",
        "WHERE dep_id = 60 \"\"\"\n",
        "cursor.execute(sql_query)"
      ]
    },
    {
      "cell_type": "code",
      "execution_count": null,
      "metadata": {
        "id": "MscKlM0yW13G",
        "outputId": "915ff441-d9fd-444a-e833-297ddab15e31"
      },
      "outputs": [
        {
          "data": {
            "text/plain": [
              "(('Alexander', 'Hunold', 46),\n",
              " ('Bruce', 'Ernst', 35),\n",
              " ('David', 'Austin', 35),\n",
              " ('Valli', 'Pataballa', 42),\n",
              " ('Diana', 'Lorentz', 35))"
            ]
          },
          "execution_count": 20,
          "metadata": {},
          "output_type": "execute_result"
        }
      ],
      "source": [
        "results = cursor.fetchall()\n",
        "results"
      ]
    },
    {
      "cell_type": "markdown",
      "metadata": {
        "id": "i4a9GxCgW13G"
      },
      "source": [
        "## Close the connection"
      ]
    },
    {
      "cell_type": "code",
      "execution_count": null,
      "metadata": {
        "id": "bVR6MFQbW13G"
      },
      "outputs": [],
      "source": [
        "conn.close()"
      ]
    },
    {
      "cell_type": "code",
      "execution_count": null,
      "metadata": {
        "id": "sOfIdkZnW13G"
      },
      "outputs": [],
      "source": [
        "mytup[3]"
      ]
    },
    {
      "cell_type": "code",
      "execution_count": null,
      "metadata": {
        "id": "ZXOpk63OW13H"
      },
      "outputs": [],
      "source": [
        "mytup2 =(('Sam',23), ('Jon', 45),('Harry',89),['jam','Butter'])\n",
        "mytup2"
      ]
    },
    {
      "cell_type": "code",
      "execution_count": null,
      "metadata": {
        "id": "eVTE7yziW13H"
      },
      "outputs": [],
      "source": [
        "mytup2[2][1]"
      ]
    },
    {
      "cell_type": "code",
      "execution_count": null,
      "metadata": {
        "id": "Cxb938uuW13H"
      },
      "outputs": [],
      "source": [
        "for x in mytup2:\n",
        "    print(x)\n",
        "    print(f'{x[0]} has got {x[1]} marks')"
      ]
    },
    {
      "cell_type": "code",
      "execution_count": null,
      "metadata": {
        "id": "cevIXT8lW13H"
      },
      "outputs": [],
      "source": [
        "for x in mytup:\n",
        "    print(x)"
      ]
    },
    {
      "cell_type": "code",
      "execution_count": null,
      "metadata": {
        "id": "Ul0zjSAMW13H"
      },
      "outputs": [],
      "source": []
    }
  ],
  "metadata": {
    "interpreter": {
      "hash": "1111f2dd854a30862f08abb141132e8ab35bb0eef1c81aec1be4358402c6316a"
    },
    "kernelspec": {
      "display_name": "Python 3",
      "language": "python",
      "name": "python3"
    },
    "language_info": {
      "codemirror_mode": {
        "name": "ipython",
        "version": 3
      },
      "file_extension": ".py",
      "mimetype": "text/x-python",
      "name": "python",
      "nbconvert_exporter": "python",
      "pygments_lexer": "ipython3",
      "version": "3.8.8"
    },
    "colab": {
      "provenance": [],
      "include_colab_link": true
    }
  },
  "nbformat": 4,
  "nbformat_minor": 0
}